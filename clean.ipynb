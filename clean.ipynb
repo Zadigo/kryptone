{
 "cells": [
  {
   "cell_type": "code",
   "execution_count": 1,
   "metadata": {},
   "outputs": [],
   "source": [
    "import pandas\n",
    "import json\n",
    "import csv\n"
   ]
  },
  {
   "cell_type": "code",
   "execution_count": 2,
   "metadata": {},
   "outputs": [],
   "source": [
    "with open('fdwj3.json', encoding='utf-8') as f:\n",
    "    data = json.load(f)"
   ]
  },
  {
   "cell_type": "code",
   "execution_count": 3,
   "metadata": {},
   "outputs": [
    {
     "data": {
      "text/plain": [
       "[['Marie Blachère Boulangerie Sandwicherie Tarterie',\n",
       "  'Chem. Saint-Frai, 65600 Séméac',\n",
       "  '188\\xa0avis',\n",
       "  'il y a 4\\xa0mois',\n",
       "  '3\\xa0étoiles',\n",
       "  'Bon pain que je prends tous les jours ! Mais que c\\'est il passé ? Par deux fois, je n\\'ai pas pu acheter cette baguette.  Aucune explication, \" revenez vers 15 h \" il est vrai que je déjeune après 15 h.  Depuis quelques temps, ces baguettes … Plus'],\n",
       " ['Marie Blachère Boulangerie Sandwicherie Tarterie',\n",
       "  'Chem. Saint-Frai, 65600 Séméac',\n",
       "  '188\\xa0avis',\n",
       "  'il y a un mois',\n",
       "  '5\\xa0étoiles',\n",
       "  \"Très bien accueilli et très bonne équipe.  Merci à anais qui est une très bonne vendeuse vif et réactif. Sa fait vraiment plaisir de voir des gens heureux de travaillé,et qui aime ce qu'il font. Sa manque dans notre pays\"],\n",
       " ['Marie Blachère Boulangerie Sandwicherie Tarterie',\n",
       "  'Chem. Saint-Frai, 65600 Séméac',\n",
       "  '188\\xa0avis',\n",
       "  'il y a 3\\xa0semaines NOUVEAU',\n",
       "  '1\\xa0étoile',\n",
       "  \"Même pas un bonjour !!! De plus, la baguette m'a coûté 1€60!! La vendeuse est persuadée que je lui avait donné 1€50 alors que c'était deux pièces de 1€. Aucune possibilité de ma part … Plus\"]]"
      ]
     },
     "execution_count": 3,
     "metadata": {},
     "output_type": "execute_result"
    }
   ],
   "source": [
    "business_comments = []\n",
    "for item in data:\n",
    "    comments = item['comments']\n",
    "    for comment in comments:\n",
    "        container = [\n",
    "            item['name'],\n",
    "            item['address'],\n",
    "            # item['rating'],\n",
    "            item['number_of_reviews'],\n",
    "            comment['period'],\n",
    "            comment['rating'],\n",
    "            comment['text']\n",
    "        ]\n",
    "        business_comments.append(container)\n",
    "\n",
    "business_comments[:3]"
   ]
  },
  {
   "cell_type": "code",
   "execution_count": 4,
   "metadata": {},
   "outputs": [],
   "source": [
    "# rows\n",
    "with open('fdwj3.csv', mode='w', encoding='utf-8', newline='\\n') as f:\n",
    "    writer = csv.writer(f)\n",
    "    for row in business_comments:\n",
    "        if not row:\n",
    "            continue\n",
    "        writer.writerow(row)"
   ]
  },
  {
   "cell_type": "code",
   "execution_count": null,
   "metadata": {},
   "outputs": [],
   "source": []
  }
 ],
 "metadata": {
  "kernelspec": {
   "display_name": "Python 3",
   "language": "python",
   "name": "python3"
  },
  "language_info": {
   "codemirror_mode": {
    "name": "ipython",
    "version": 3
   },
   "file_extension": ".py",
   "mimetype": "text/x-python",
   "name": "python",
   "nbconvert_exporter": "python",
   "pygments_lexer": "ipython3",
   "version": "3.11.1"
  },
  "orig_nbformat": 4
 },
 "nbformat": 4,
 "nbformat_minor": 2
}
