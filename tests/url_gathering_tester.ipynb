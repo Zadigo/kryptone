{
 "cells": [
  {
   "cell_type": "markdown",
   "metadata": {},
   "source": [
    "# URL filtering process"
   ]
  },
  {
   "cell_type": "code",
   "execution_count": 594,
   "metadata": {},
   "outputs": [],
   "source": [
    "import pandas\n",
    "from kryptone.utils.urls import URL, URLIgnoreTest"
   ]
  },
  {
   "cell_type": "code",
   "execution_count": 595,
   "metadata": {},
   "outputs": [],
   "source": [
    "START_URL_OBJECT = URL('https://www.undiz.com/fr/soutiens-gorge/')\n",
    "\n",
    "URLS_TO_VISIT = set()\n",
    "\n",
    "VISITED_URLS = set(['https://www.undiz.com/'])\n",
    "\n",
    "LIST_OF_SEEN_URLS = set()\n",
    "\n",
    "IGNORE_QUERIES = False\n",
    "\n",
    "IGNORE_IMAGES = False"
   ]
  },
  {
   "cell_type": "markdown",
   "metadata": {},
   "source": [
    "## Navigation to web page\n",
    "\n",
    "This is is when the robot actually moves to a web page and gathers all the urls for the current url"
   ]
  },
  {
   "cell_type": "code",
   "execution_count": 596,
   "metadata": {},
   "outputs": [],
   "source": [
    "raw_urls = pandas.read_csv('test_urls.csv')"
   ]
  },
  {
   "cell_type": "code",
   "execution_count": 597,
   "metadata": {},
   "outputs": [
    {
     "data": {
      "text/plain": [
       "355"
      ]
     },
     "execution_count": 597,
     "metadata": {},
     "output_type": "execute_result"
    }
   ],
   "source": [
    "raw_urls.initial_urls.count()"
   ]
  },
  {
   "cell_type": "markdown",
   "metadata": {},
   "source": [
    "The structural check allows us to identify urls that start with \"/\" and put them in the correct format \"https://domain.com/path\" it also allows us to convert the url into a python object"
   ]
  },
  {
   "cell_type": "code",
   "execution_count": 599,
   "metadata": {},
   "outputs": [],
   "source": [
    "from urllib.parse import urlunparse, unquote\n",
    "\n",
    "def urljoin(path):\n",
    "    path = str(path).strip()\n",
    "    result = urlunparse((\n",
    "        START_URL_OBJECT.scheme,\n",
    "        START_URL_OBJECT.netloc,\n",
    "        path,\n",
    "        None,\n",
    "        None,\n",
    "        None\n",
    "    ))\n",
    "    return unquote(result)\n",
    "\n",
    "def url_structural_check(url):\n",
    "    if str(url).startswith('/'):\n",
    "        clean_url = urljoin(str(clean_url))\n",
    "    return URL(str(url))\n",
    "\n",
    "raw_urls['urls'] = raw_urls['initial_urls'].map(lambda x: url_structural_check(x).raw_url)"
   ]
  },
  {
   "cell_type": "markdown",
   "metadata": {},
   "source": [
    "A page could have muliple duplicates but before droping them, we need to get a clean decoded version of the url"
   ]
  },
  {
   "cell_type": "code",
   "execution_count": 600,
   "metadata": {},
   "outputs": [],
   "source": [
    "raw_urls = raw_urls.drop_duplicates(subset=['urls'])"
   ]
  },
  {
   "cell_type": "code",
   "execution_count": 601,
   "metadata": {},
   "outputs": [
    {
     "data": {
      "text/plain": [
       "192"
      ]
     },
     "execution_count": 601,
     "metadata": {},
     "output_type": "execute_result"
    }
   ],
   "source": [
    "raw_urls.urls.count()"
   ]
  },
  {
   "cell_type": "markdown",
   "metadata": {},
   "source": [
    "### Initial url filters\n",
    "\n",
    "This initial url filter check that _the url is no emppty, is not a fragment (e.g. /#, /path#fragment, is not the home page if it was already the start url and optionnaly is not a query or an image_\n",
    "\n",
    "The initial premise is that every url that comes in is not valid unless said differently"
   ]
  },
  {
   "cell_type": "code",
   "execution_count": 602,
   "metadata": {},
   "outputs": [
    {
     "data": {
      "text/html": [
       "<div>\n",
       "<style scoped>\n",
       "    .dataframe tbody tr th:only-of-type {\n",
       "        vertical-align: middle;\n",
       "    }\n",
       "\n",
       "    .dataframe tbody tr th {\n",
       "        vertical-align: top;\n",
       "    }\n",
       "\n",
       "    .dataframe thead th {\n",
       "        text-align: right;\n",
       "    }\n",
       "</style>\n",
       "<table border=\"1\" class=\"dataframe\">\n",
       "  <thead>\n",
       "    <tr style=\"text-align: right;\">\n",
       "      <th></th>\n",
       "      <th>initial_urls</th>\n",
       "      <th>urls</th>\n",
       "      <th>is_valid</th>\n",
       "    </tr>\n",
       "  </thead>\n",
       "  <tbody>\n",
       "    <tr>\n",
       "      <th>0</th>\n",
       "      <td>https://www.undiz.com/fr/saint-valentin/</td>\n",
       "      <td>https://www.undiz.com/fr/saint-valentin/</td>\n",
       "      <td>True</td>\n",
       "    </tr>\n",
       "    <tr>\n",
       "      <th>2</th>\n",
       "      <td>https://www.undiz.com/fr/soutiens-gorge/#</td>\n",
       "      <td>https://www.undiz.com/fr/soutiens-gorge/#</td>\n",
       "      <td>False</td>\n",
       "    </tr>\n",
       "    <tr>\n",
       "      <th>3</th>\n",
       "      <td>https://www.undiz.com/</td>\n",
       "      <td>https://www.undiz.com/</td>\n",
       "      <td>True</td>\n",
       "    </tr>\n",
       "    <tr>\n",
       "      <th>9</th>\n",
       "      <td>https://www.undiz.com/fr/collection-saint-vale...</td>\n",
       "      <td>https://www.undiz.com/fr/collection-saint-vale...</td>\n",
       "      <td>True</td>\n",
       "    </tr>\n",
       "    <tr>\n",
       "      <th>10</th>\n",
       "      <td>https://www.undiz.com/fr/collection-saint-vale...</td>\n",
       "      <td>https://www.undiz.com/fr/collection-saint-vale...</td>\n",
       "      <td>True</td>\n",
       "    </tr>\n",
       "  </tbody>\n",
       "</table>\n",
       "</div>"
      ],
      "text/plain": [
       "                                         initial_urls  \\\n",
       "0            https://www.undiz.com/fr/saint-valentin/   \n",
       "2           https://www.undiz.com/fr/soutiens-gorge/#   \n",
       "3                              https://www.undiz.com/   \n",
       "9   https://www.undiz.com/fr/collection-saint-vale...   \n",
       "10  https://www.undiz.com/fr/collection-saint-vale...   \n",
       "\n",
       "                                                 urls  is_valid  \n",
       "0            https://www.undiz.com/fr/saint-valentin/      True  \n",
       "2           https://www.undiz.com/fr/soutiens-gorge/#     False  \n",
       "3                              https://www.undiz.com/      True  \n",
       "9   https://www.undiz.com/fr/collection-saint-vale...      True  \n",
       "10  https://www.undiz.com/fr/collection-saint-vale...      True  "
      ]
     },
     "execution_count": 602,
     "metadata": {},
     "output_type": "execute_result"
    }
   ],
   "source": [
    "raw_urls['is_valid'] = False\n",
    "def initial_url_filter(df):\n",
    "    for item in df.itertuples(name='Url'):\n",
    "        instance = URL(item.urls)\n",
    "        if not instance.is_same_domain(START_URL_OBJECT):\n",
    "            continue\n",
    "\n",
    "        if instance.is_empty:\n",
    "            continue\n",
    "\n",
    "        if instance.has_fragment:\n",
    "            continue\n",
    "\n",
    "        if instance.url_object.path == '/' and START_URL_OBJECT.url_object.path == '/':\n",
    "            continue\n",
    "\n",
    "        if IGNORE_QUERIES:\n",
    "            if instance.has_queries():\n",
    "                continue\n",
    "\n",
    "        if IGNORE_IMAGES:\n",
    "            if instance.is_image:\n",
    "                continue\n",
    "\n",
    "        df.loc[item.Index, 'is_valid'] = True\n",
    "    return df\n",
    "raw_urls.pipe(initial_url_filter).head()"
   ]
  },
  {
   "cell_type": "markdown",
   "metadata": {},
   "source": [
    "We check for a correspondance between the urls that were already visitesd, that we have already seen. This is the second level filter"
   ]
  },
  {
   "cell_type": "code",
   "execution_count": 603,
   "metadata": {},
   "outputs": [],
   "source": [
    "visited_urls = pandas.DataFrame({'urls': list(VISITED_URLS)})\n",
    "raw_urls['already_visited'] = raw_urls['urls'].isin(visited_urls.urls)"
   ]
  },
  {
   "cell_type": "code",
   "execution_count": 604,
   "metadata": {},
   "outputs": [],
   "source": [
    "list_of_seen_urls = pandas.DataFrame({'urls': list(LIST_OF_SEEN_URLS)})\n",
    "raw_urls['already_seen'] = raw_urls['urls'].isin(list_of_seen_urls.urls)"
   ]
  },
  {
   "cell_type": "markdown",
   "metadata": {},
   "source": [
    "This is our intermediate dataframe that we will be using to apply the remaining custom user filters"
   ]
  },
  {
   "cell_type": "code",
   "execution_count": 605,
   "metadata": {},
   "outputs": [
    {
     "data": {
      "text/html": [
       "<div>\n",
       "<style scoped>\n",
       "    .dataframe tbody tr th:only-of-type {\n",
       "        vertical-align: middle;\n",
       "    }\n",
       "\n",
       "    .dataframe tbody tr th {\n",
       "        vertical-align: top;\n",
       "    }\n",
       "\n",
       "    .dataframe thead th {\n",
       "        text-align: right;\n",
       "    }\n",
       "</style>\n",
       "<table border=\"1\" class=\"dataframe\">\n",
       "  <thead>\n",
       "    <tr style=\"text-align: right;\">\n",
       "      <th></th>\n",
       "      <th>initial_urls</th>\n",
       "      <th>urls</th>\n",
       "      <th>is_valid</th>\n",
       "      <th>already_visited</th>\n",
       "      <th>already_seen</th>\n",
       "    </tr>\n",
       "  </thead>\n",
       "  <tbody>\n",
       "    <tr>\n",
       "      <th>3</th>\n",
       "      <td>https://www.undiz.com/</td>\n",
       "      <td>https://www.undiz.com/</td>\n",
       "      <td>True</td>\n",
       "      <td>True</td>\n",
       "      <td>False</td>\n",
       "    </tr>\n",
       "  </tbody>\n",
       "</table>\n",
       "</div>"
      ],
      "text/plain": [
       "             initial_urls                    urls  is_valid  already_visited  \\\n",
       "3  https://www.undiz.com/  https://www.undiz.com/      True             True   \n",
       "\n",
       "   already_seen  \n",
       "3         False  "
      ]
     },
     "execution_count": 605,
     "metadata": {},
     "output_type": "execute_result"
    }
   ],
   "source": [
    "raw_urls[raw_urls['already_visited'] == True]"
   ]
  },
  {
   "cell_type": "code",
   "execution_count": 606,
   "metadata": {},
   "outputs": [
    {
     "data": {
      "text/html": [
       "<div>\n",
       "<style scoped>\n",
       "    .dataframe tbody tr th:only-of-type {\n",
       "        vertical-align: middle;\n",
       "    }\n",
       "\n",
       "    .dataframe tbody tr th {\n",
       "        vertical-align: top;\n",
       "    }\n",
       "\n",
       "    .dataframe thead th {\n",
       "        text-align: right;\n",
       "    }\n",
       "</style>\n",
       "<table border=\"1\" class=\"dataframe\">\n",
       "  <thead>\n",
       "    <tr style=\"text-align: right;\">\n",
       "      <th></th>\n",
       "      <th>initial_urls</th>\n",
       "      <th>urls</th>\n",
       "      <th>is_valid</th>\n",
       "      <th>already_visited</th>\n",
       "      <th>already_seen</th>\n",
       "    </tr>\n",
       "  </thead>\n",
       "  <tbody>\n",
       "  </tbody>\n",
       "</table>\n",
       "</div>"
      ],
      "text/plain": [
       "Empty DataFrame\n",
       "Columns: [initial_urls, urls, is_valid, already_visited, already_seen]\n",
       "Index: []"
      ]
     },
     "execution_count": 606,
     "metadata": {},
     "output_type": "execute_result"
    }
   ],
   "source": [
    "raw_urls[raw_urls['already_seen'] == True]"
   ]
  },
  {
   "cell_type": "code",
   "execution_count": 607,
   "metadata": {},
   "outputs": [],
   "source": [
    "valid_urls = raw_urls[\n",
    "    (raw_urls['is_valid'] == True) &\n",
    "    (raw_urls['already_visited'] == False) &\n",
    "    (raw_urls['already_seen'] == False)\n",
    "]"
   ]
  },
  {
   "cell_type": "code",
   "execution_count": 608,
   "metadata": {},
   "outputs": [
    {
     "data": {
      "text/plain": [
       "183"
      ]
     },
     "execution_count": 608,
     "metadata": {},
     "output_type": "execute_result"
    }
   ],
   "source": [
    "valid_urls.urls.count()"
   ]
  },
  {
   "cell_type": "code",
   "execution_count": 609,
   "metadata": {},
   "outputs": [
    {
     "data": {
      "text/plain": [
       "183"
      ]
     },
     "execution_count": 609,
     "metadata": {},
     "output_type": "execute_result"
    }
   ],
   "source": [
    "valid_urls['urls'].isin(LIST_OF_SEEN_URLS).count()"
   ]
  },
  {
   "cell_type": "code",
   "execution_count": 610,
   "metadata": {},
   "outputs": [],
   "source": [
    "valid_urls = valid_urls.sort_values('urls')"
   ]
  },
  {
   "cell_type": "markdown",
   "metadata": {},
   "source": [
    "Restructure our dataframe for the rest of the filtering process"
   ]
  },
  {
   "cell_type": "code",
   "execution_count": 611,
   "metadata": {},
   "outputs": [],
   "source": [
    "valid_urls = valid_urls[['urls', 'is_valid']]"
   ]
  },
  {
   "cell_type": "code",
   "execution_count": 612,
   "metadata": {},
   "outputs": [
    {
     "data": {
      "text/html": [
       "<div>\n",
       "<style scoped>\n",
       "    .dataframe tbody tr th:only-of-type {\n",
       "        vertical-align: middle;\n",
       "    }\n",
       "\n",
       "    .dataframe tbody tr th {\n",
       "        vertical-align: top;\n",
       "    }\n",
       "\n",
       "    .dataframe thead th {\n",
       "        text-align: right;\n",
       "    }\n",
       "</style>\n",
       "<table border=\"1\" class=\"dataframe\">\n",
       "  <thead>\n",
       "    <tr style=\"text-align: right;\">\n",
       "      <th></th>\n",
       "      <th>urls</th>\n",
       "      <th>is_valid</th>\n",
       "    </tr>\n",
       "  </thead>\n",
       "  <tbody>\n",
       "    <tr>\n",
       "      <th>106</th>\n",
       "      <td>https://www.undiz.com/fr/1-1-3/</td>\n",
       "      <td>True</td>\n",
       "    </tr>\n",
       "    <tr>\n",
       "      <th>343</th>\n",
       "      <td>https://www.undiz.com/fr/FR-landing-page-app.html</td>\n",
       "      <td>True</td>\n",
       "    </tr>\n",
       "    <tr>\n",
       "      <th>127</th>\n",
       "      <td>https://www.undiz.com/fr/achat/mon-panier-reca...</td>\n",
       "      <td>True</td>\n",
       "    </tr>\n",
       "    <tr>\n",
       "      <th>84</th>\n",
       "      <td>https://www.undiz.com/fr/collabs-pyjamas/</td>\n",
       "      <td>True</td>\n",
       "    </tr>\n",
       "    <tr>\n",
       "      <th>13</th>\n",
       "      <td>https://www.undiz.com/fr/collection-saint-vale...</td>\n",
       "      <td>True</td>\n",
       "    </tr>\n",
       "  </tbody>\n",
       "</table>\n",
       "</div>"
      ],
      "text/plain": [
       "                                                  urls  is_valid\n",
       "106                    https://www.undiz.com/fr/1-1-3/      True\n",
       "343  https://www.undiz.com/fr/FR-landing-page-app.html      True\n",
       "127  https://www.undiz.com/fr/achat/mon-panier-reca...      True\n",
       "84           https://www.undiz.com/fr/collabs-pyjamas/      True\n",
       "13   https://www.undiz.com/fr/collection-saint-vale...      True"
      ]
     },
     "execution_count": 612,
     "metadata": {},
     "output_type": "execute_result"
    }
   ],
   "source": [
    "valid_urls.head()"
   ]
  },
  {
   "cell_type": "markdown",
   "metadata": {},
   "source": [
    "### Url ignore tests\n",
    "\n",
    "The user might indicate that certain urls need to be ignored if they match a certain path or regex pattern. This is used essentially when some of the urls are known in advance"
   ]
  },
  {
   "cell_type": "code",
   "execution_count": 613,
   "metadata": {},
   "outputs": [
    {
     "name": "stderr",
     "output_type": "stream",
     "text": [
      "2024-02-10 11:52 - KRYPTONE - WARNING: https://www.undiz.com/fr/p/soutien-gorge-corbeille-en-dentelle-654419205.html was blacklisted by filter 'ignore_bras_9fb3863397'\n",
      "2024-02-10 11:52 - KRYPTONE - WARNING: https://www.undiz.com/fr/p/soutien-gorge-corbeille-en-dentelle-654419268.html was blacklisted by filter 'ignore_bras_9fb3863397'\n",
      "2024-02-10 11:52 - KRYPTONE - WARNING: https://www.undiz.com/fr/p/soutien-gorge-corbeille-en-dentelle-654425968.html was blacklisted by filter 'ignore_bras_9fb3863397'\n",
      "2024-02-10 11:52 - KRYPTONE - WARNING: https://www.undiz.com/fr/p/soutien-gorge-corbeille-en-dentelle-654437873.html was blacklisted by filter 'ignore_bras_9fb3863397'\n",
      "2024-02-10 11:52 - KRYPTONE - WARNING: https://www.undiz.com/fr/p/soutien-gorge-corbeille-en-dentelle-654440705.html was blacklisted by filter 'ignore_bras_9fb3863397'\n",
      "2024-02-10 11:52 - KRYPTONE - WARNING: https://www.undiz.com/fr/p/soutien-gorge-corbeille-en-dentelle-654452568.html was blacklisted by filter 'ignore_bras_9fb3863397'\n",
      "2024-02-10 11:52 - KRYPTONE - WARNING: https://www.undiz.com/fr/p/soutien-gorge-corbeille-en-tulle-654443605.html was blacklisted by filter 'ignore_bras_9fb3863397'\n",
      "2024-02-10 11:52 - KRYPTONE - WARNING: https://www.undiz.com/fr/p/soutien-gorge-corbeille-en-tulle-654469973.html was blacklisted by filter 'ignore_bras_9fb3863397'\n",
      "2024-02-10 11:52 - KRYPTONE - WARNING: https://www.undiz.com/fr/p/soutien-gorge-en-dentelle-654436105.html was blacklisted by filter 'ignore_bras_9fb3863397'\n",
      "2024-02-10 11:52 - KRYPTONE - WARNING: https://www.undiz.com/fr/p/soutien-gorge-en-dentelle-654436173.html was blacklisted by filter 'ignore_bras_9fb3863397'\n",
      "2024-02-10 11:52 - KRYPTONE - WARNING: https://www.undiz.com/fr/p/soutien-gorge-en-dentelle-654437273.html was blacklisted by filter 'ignore_bras_9fb3863397'\n",
      "2024-02-10 11:52 - KRYPTONE - WARNING: https://www.undiz.com/fr/p/soutien-gorge-en-dentelle-654440773.html was blacklisted by filter 'ignore_bras_9fb3863397'\n",
      "2024-02-10 11:52 - KRYPTONE - WARNING: https://www.undiz.com/fr/p/soutien-gorge-en-satin-654441105.html was blacklisted by filter 'ignore_bras_9fb3863397'\n",
      "2024-02-10 11:52 - KRYPTONE - WARNING: https://www.undiz.com/fr/p/soutien-gorge-en-satin-654488168.html was blacklisted by filter 'ignore_bras_9fb3863397'\n",
      "2024-02-10 11:52 - KRYPTONE - WARNING: https://www.undiz.com/fr/p/soutien-gorge-en-tulle-654444905.html was blacklisted by filter 'ignore_bras_9fb3863397'\n",
      "2024-02-10 11:52 - KRYPTONE - WARNING: https://www.undiz.com/fr/p/soutien-gorge-en-tulle-654444932.html was blacklisted by filter 'ignore_bras_9fb3863397'\n",
      "2024-02-10 11:52 - KRYPTONE - WARNING: https://www.undiz.com/fr/p/soutien-gorge-push-up-en-dentelle-654406105.html was blacklisted by filter 'ignore_bras_9fb3863397'\n",
      "2024-02-10 11:52 - KRYPTONE - WARNING: https://www.undiz.com/fr/p/soutien-gorge-triangle-en-dentelle-654418284.html was blacklisted by filter 'ignore_bras_9fb3863397'\n",
      "2024-02-10 11:52 - KRYPTONE - WARNING: https://www.undiz.com/fr/p/soutien-gorge-ultra-push-up-en-dentelle-654404605.html was blacklisted by filter 'ignore_bras_9fb3863397'\n",
      "2024-02-10 11:52 - KRYPTONE - WARNING: https://www.undiz.com/fr/soutiens-gorge/ was blacklisted by filter 'ignore_bras_9fb3863397'\n",
      "2024-02-10 11:52 - KRYPTONE - WARNING: https://www.undiz.com/fr/soutiens-gorge/100b/ was blacklisted by filter 'ignore_bras_9fb3863397'\n",
      "2024-02-10 11:52 - KRYPTONE - WARNING: https://www.undiz.com/fr/soutiens-gorge/100c/ was blacklisted by filter 'ignore_bras_9fb3863397'\n",
      "2024-02-10 11:52 - KRYPTONE - WARNING: https://www.undiz.com/fr/soutiens-gorge/100d/ was blacklisted by filter 'ignore_bras_9fb3863397'\n",
      "2024-02-10 11:52 - KRYPTONE - WARNING: https://www.undiz.com/fr/soutiens-gorge/100e/ was blacklisted by filter 'ignore_bras_9fb3863397'\n",
      "2024-02-10 11:52 - KRYPTONE - WARNING: https://www.undiz.com/fr/soutiens-gorge/100f/ was blacklisted by filter 'ignore_bras_9fb3863397'\n",
      "2024-02-10 11:52 - KRYPTONE - WARNING: https://www.undiz.com/fr/soutiens-gorge/105b/ was blacklisted by filter 'ignore_bras_9fb3863397'\n",
      "2024-02-10 11:52 - KRYPTONE - WARNING: https://www.undiz.com/fr/soutiens-gorge/105c/ was blacklisted by filter 'ignore_bras_9fb3863397'\n",
      "2024-02-10 11:52 - KRYPTONE - WARNING: https://www.undiz.com/fr/soutiens-gorge/105d/ was blacklisted by filter 'ignore_bras_9fb3863397'\n",
      "2024-02-10 11:52 - KRYPTONE - WARNING: https://www.undiz.com/fr/soutiens-gorge/105e/ was blacklisted by filter 'ignore_bras_9fb3863397'\n",
      "2024-02-10 11:52 - KRYPTONE - WARNING: https://www.undiz.com/fr/soutiens-gorge/105f/ was blacklisted by filter 'ignore_bras_9fb3863397'\n",
      "2024-02-10 11:52 - KRYPTONE - WARNING: https://www.undiz.com/fr/soutiens-gorge/2xl/ was blacklisted by filter 'ignore_bras_9fb3863397'\n",
      "2024-02-10 11:52 - KRYPTONE - WARNING: https://www.undiz.com/fr/soutiens-gorge/2xs/ was blacklisted by filter 'ignore_bras_9fb3863397'\n",
      "2024-02-10 11:52 - KRYPTONE - WARNING: https://www.undiz.com/fr/soutiens-gorge/70a/ was blacklisted by filter 'ignore_bras_9fb3863397'\n",
      "2024-02-10 11:52 - KRYPTONE - WARNING: https://www.undiz.com/fr/soutiens-gorge/80a/ was blacklisted by filter 'ignore_bras_9fb3863397'\n",
      "2024-02-10 11:52 - KRYPTONE - WARNING: https://www.undiz.com/fr/soutiens-gorge/80b/ was blacklisted by filter 'ignore_bras_9fb3863397'\n",
      "2024-02-10 11:52 - KRYPTONE - WARNING: https://www.undiz.com/fr/soutiens-gorge/85a/ was blacklisted by filter 'ignore_bras_9fb3863397'\n",
      "2024-02-10 11:52 - KRYPTONE - WARNING: https://www.undiz.com/fr/soutiens-gorge/85b/ was blacklisted by filter 'ignore_bras_9fb3863397'\n",
      "2024-02-10 11:52 - KRYPTONE - WARNING: https://www.undiz.com/fr/soutiens-gorge/85c/ was blacklisted by filter 'ignore_bras_9fb3863397'\n",
      "2024-02-10 11:52 - KRYPTONE - WARNING: https://www.undiz.com/fr/soutiens-gorge/85d/ was blacklisted by filter 'ignore_bras_9fb3863397'\n",
      "2024-02-10 11:52 - KRYPTONE - WARNING: https://www.undiz.com/fr/soutiens-gorge/85e/ was blacklisted by filter 'ignore_bras_9fb3863397'\n",
      "2024-02-10 11:52 - KRYPTONE - WARNING: https://www.undiz.com/fr/soutiens-gorge/85f/ was blacklisted by filter 'ignore_bras_9fb3863397'\n",
      "2024-02-10 11:52 - KRYPTONE - WARNING: https://www.undiz.com/fr/soutiens-gorge/90a/ was blacklisted by filter 'ignore_bras_9fb3863397'\n",
      "2024-02-10 11:52 - KRYPTONE - WARNING: https://www.undiz.com/fr/soutiens-gorge/90b/ was blacklisted by filter 'ignore_bras_9fb3863397'\n",
      "2024-02-10 11:52 - KRYPTONE - WARNING: https://www.undiz.com/fr/soutiens-gorge/90c/ was blacklisted by filter 'ignore_bras_9fb3863397'\n",
      "2024-02-10 11:52 - KRYPTONE - WARNING: https://www.undiz.com/fr/soutiens-gorge/90d/ was blacklisted by filter 'ignore_bras_9fb3863397'\n",
      "2024-02-10 11:52 - KRYPTONE - WARNING: https://www.undiz.com/fr/soutiens-gorge/90e/ was blacklisted by filter 'ignore_bras_9fb3863397'\n",
      "2024-02-10 11:52 - KRYPTONE - WARNING: https://www.undiz.com/fr/soutiens-gorge/90f/ was blacklisted by filter 'ignore_bras_9fb3863397'\n",
      "2024-02-10 11:52 - KRYPTONE - WARNING: https://www.undiz.com/fr/soutiens-gorge/95a/ was blacklisted by filter 'ignore_bras_9fb3863397'\n",
      "2024-02-10 11:52 - KRYPTONE - WARNING: https://www.undiz.com/fr/soutiens-gorge/95b/ was blacklisted by filter 'ignore_bras_9fb3863397'\n",
      "2024-02-10 11:52 - KRYPTONE - WARNING: https://www.undiz.com/fr/soutiens-gorge/95c/ was blacklisted by filter 'ignore_bras_9fb3863397'\n",
      "2024-02-10 11:52 - KRYPTONE - WARNING: https://www.undiz.com/fr/soutiens-gorge/95d/ was blacklisted by filter 'ignore_bras_9fb3863397'\n",
      "2024-02-10 11:52 - KRYPTONE - WARNING: https://www.undiz.com/fr/soutiens-gorge/95e/ was blacklisted by filter 'ignore_bras_9fb3863397'\n",
      "2024-02-10 11:52 - KRYPTONE - WARNING: https://www.undiz.com/fr/soutiens-gorge/95f/ was blacklisted by filter 'ignore_bras_9fb3863397'\n",
      "2024-02-10 11:52 - KRYPTONE - WARNING: https://www.undiz.com/fr/soutiens-gorge/?start=120&sz=30 was blacklisted by filter 'ignore_bras_9fb3863397'\n",
      "2024-02-10 11:52 - KRYPTONE - WARNING: https://www.undiz.com/fr/soutiens-gorge/?start=270&sz=30 was blacklisted by filter 'ignore_bras_9fb3863397'\n",
      "2024-02-10 11:52 - KRYPTONE - WARNING: https://www.undiz.com/fr/soutiens-gorge/?start=30&sz=30 was blacklisted by filter 'ignore_bras_9fb3863397'\n",
      "2024-02-10 11:52 - KRYPTONE - WARNING: https://www.undiz.com/fr/soutiens-gorge/?start=420&sz=30 was blacklisted by filter 'ignore_bras_9fb3863397'\n",
      "2024-02-10 11:52 - KRYPTONE - WARNING: https://www.undiz.com/fr/soutiens-gorge/?start=450&sz=30 was blacklisted by filter 'ignore_bras_9fb3863397'\n",
      "2024-02-10 11:52 - KRYPTONE - WARNING: https://www.undiz.com/fr/soutiens-gorge/?start=60&sz=30 was blacklisted by filter 'ignore_bras_9fb3863397'\n",
      "2024-02-10 11:52 - KRYPTONE - WARNING: https://www.undiz.com/fr/soutiens-gorge/?start=90&sz=30 was blacklisted by filter 'ignore_bras_9fb3863397'\n",
      "2024-02-10 11:52 - KRYPTONE - WARNING: https://www.undiz.com/fr/soutiens-gorge/accessoires-lingerie/ was blacklisted by filter 'ignore_bras_9fb3863397'\n",
      "2024-02-10 11:52 - KRYPTONE - WARNING: https://www.undiz.com/fr/soutiens-gorge/ampliforme/ was blacklisted by filter 'ignore_bras_9fb3863397'\n",
      "2024-02-10 11:52 - KRYPTONE - WARNING: https://www.undiz.com/fr/soutiens-gorge/bandeaux/ was blacklisted by filter 'ignore_bras_9fb3863397'\n",
      "2024-02-10 11:52 - KRYPTONE - WARNING: https://www.undiz.com/fr/soutiens-gorge/blanc/ was blacklisted by filter 'ignore_bras_9fb3863397'\n",
      "2024-02-10 11:52 - KRYPTONE - WARNING: https://www.undiz.com/fr/soutiens-gorge/bleu/ was blacklisted by filter 'ignore_bras_9fb3863397'\n",
      "2024-02-10 11:52 - KRYPTONE - WARNING: https://www.undiz.com/fr/soutiens-gorge/bodys/ was blacklisted by filter 'ignore_bras_9fb3863397'\n",
      "2024-02-10 11:52 - KRYPTONE - WARNING: https://www.undiz.com/fr/soutiens-gorge/bonnet-e-f/ was blacklisted by filter 'ignore_bras_9fb3863397'\n",
      "2024-02-10 11:52 - KRYPTONE - WARNING: https://www.undiz.com/fr/soutiens-gorge/bustier/ was blacklisted by filter 'ignore_bras_9fb3863397'\n",
      "2024-02-10 11:52 - KRYPTONE - WARNING: https://www.undiz.com/fr/soutiens-gorge/chair/ was blacklisted by filter 'ignore_bras_9fb3863397'\n",
      "2024-02-10 11:52 - KRYPTONE - WARNING: https://www.undiz.com/fr/soutiens-gorge/corbeille/ was blacklisted by filter 'ignore_bras_9fb3863397'\n",
      "2024-02-10 11:52 - KRYPTONE - WARNING: https://www.undiz.com/fr/soutiens-gorge/jaune/ was blacklisted by filter 'ignore_bras_9fb3863397'\n",
      "2024-02-10 11:52 - KRYPTONE - WARNING: https://www.undiz.com/fr/soutiens-gorge/l-/ was blacklisted by filter 'ignore_bras_9fb3863397'\n",
      "2024-02-10 11:52 - KRYPTONE - WARNING: https://www.undiz.com/fr/soutiens-gorge/l/ was blacklisted by filter 'ignore_bras_9fb3863397'\n",
      "2024-02-10 11:52 - KRYPTONE - WARNING: https://www.undiz.com/fr/soutiens-gorge/m-/ was blacklisted by filter 'ignore_bras_9fb3863397'\n",
      "2024-02-10 11:52 - KRYPTONE - WARNING: https://www.undiz.com/fr/soutiens-gorge/m/ was blacklisted by filter 'ignore_bras_9fb3863397'\n",
      "2024-02-10 11:52 - KRYPTONE - WARNING: https://www.undiz.com/fr/soutiens-gorge/marron/ was blacklisted by filter 'ignore_bras_9fb3863397'\n",
      "2024-02-10 11:52 - KRYPTONE - WARNING: https://www.undiz.com/fr/soutiens-gorge/noir/ was blacklisted by filter 'ignore_bras_9fb3863397'\n",
      "2024-02-10 11:52 - KRYPTONE - WARNING: https://www.undiz.com/fr/soutiens-gorge/offre-soutiens-gorge/ was blacklisted by filter 'ignore_bras_9fb3863397'\n",
      "2024-02-10 11:52 - KRYPTONE - WARNING: https://www.undiz.com/fr/soutiens-gorge/orange/ was blacklisted by filter 'ignore_bras_9fb3863397'\n",
      "2024-02-10 11:52 - KRYPTONE - WARNING: https://www.undiz.com/fr/soutiens-gorge/push-up/ was blacklisted by filter 'ignore_bras_9fb3863397'\n",
      "2024-02-10 11:52 - KRYPTONE - WARNING: https://www.undiz.com/fr/soutiens-gorge/rose/ was blacklisted by filter 'ignore_bras_9fb3863397'\n",
      "2024-02-10 11:52 - KRYPTONE - WARNING: https://www.undiz.com/fr/soutiens-gorge/rouge/ was blacklisted by filter 'ignore_bras_9fb3863397'\n",
      "2024-02-10 11:52 - KRYPTONE - WARNING: https://www.undiz.com/fr/soutiens-gorge/s-/ was blacklisted by filter 'ignore_bras_9fb3863397'\n",
      "2024-02-10 11:52 - KRYPTONE - WARNING: https://www.undiz.com/fr/soutiens-gorge/s/ was blacklisted by filter 'ignore_bras_9fb3863397'\n",
      "2024-02-10 11:52 - KRYPTONE - WARNING: https://www.undiz.com/fr/soutiens-gorge/sans-armatures/ was blacklisted by filter 'ignore_bras_9fb3863397'\n",
      "2024-02-10 11:52 - KRYPTONE - WARNING: https://www.undiz.com/fr/soutiens-gorge/soutiens-gorge-juniors/ was blacklisted by filter 'ignore_bras_9fb3863397'\n",
      "2024-02-10 11:52 - KRYPTONE - WARNING: https://www.undiz.com/fr/soutiens-gorge/triangle/ was blacklisted by filter 'ignore_bras_9fb3863397'\n",
      "2024-02-10 11:52 - KRYPTONE - WARNING: https://www.undiz.com/fr/soutiens-gorge/tu/ was blacklisted by filter 'ignore_bras_9fb3863397'\n",
      "2024-02-10 11:52 - KRYPTONE - WARNING: https://www.undiz.com/fr/soutiens-gorge/vert/ was blacklisted by filter 'ignore_bras_9fb3863397'\n",
      "2024-02-10 11:52 - KRYPTONE - WARNING: https://www.undiz.com/fr/soutiens-gorge/violet/ was blacklisted by filter 'ignore_bras_9fb3863397'\n",
      "2024-02-10 11:52 - KRYPTONE - WARNING: https://www.undiz.com/fr/soutiens-gorge/xl-/ was blacklisted by filter 'ignore_bras_9fb3863397'\n",
      "2024-02-10 11:52 - KRYPTONE - WARNING: https://www.undiz.com/fr/soutiens-gorge/xl/ was blacklisted by filter 'ignore_bras_9fb3863397'\n",
      "2024-02-10 11:52 - KRYPTONE - WARNING: https://www.undiz.com/fr/soutiens-gorge/xs/ was blacklisted by filter 'ignore_bras_9fb3863397'\n",
      "2024-02-10 11:52 - KRYPTONE - WARNING: https://www.undiz.com/fr/soutiens-gorge/xxl/ was blacklisted by filter 'ignore_bras_9fb3863397'\n"
     ]
    }
   ],
   "source": [
    "from collections import defaultdict, OrderedDict\n",
    "\n",
    "URL_IGNORE_TESTS = [\n",
    "    URLIgnoreTest('bras', paths=['/soutiens-gorge/', 'soutien-gorge'])\n",
    "]\n",
    "\n",
    "results = defaultdict(list)\n",
    "for item in valid_urls.itertuples():\n",
    "    truth_array = results[item.urls]\n",
    "    for instance in URL_IGNORE_TESTS:\n",
    "        truth_array.append(instance(item.urls))\n",
    "\n",
    "urls_kept = set()\n",
    "urls_removed = set()\n",
    "final_urls_filtering_audit = OrderedDict()\n",
    "\n",
    "for url, truth_array in results.items():\n",
    "    final_urls_filtering_audit[url] = any(truth_array)\n",
    "\n",
    "    if any(truth_array):\n",
    "        urls_removed.add(url)\n",
    "        continue\n",
    "    urls_kept.add(url)\n",
    "\n",
    "urls_kept = pandas.DataFrame({'urls': list(urls_kept)})\n",
    "valid_urls = valid_urls[valid_urls.urls.isin(urls_kept.urls)]\n"
   ]
  },
  {
   "cell_type": "code",
   "execution_count": 614,
   "metadata": {},
   "outputs": [
    {
     "data": {
      "text/plain": [
       "89"
      ]
     },
     "execution_count": 614,
     "metadata": {},
     "output_type": "execute_result"
    }
   ],
   "source": [
    "valid_urls.urls.count()"
   ]
  },
  {
   "cell_type": "markdown",
   "metadata": {},
   "source": [
    "### Url rule tests\n",
    "\n",
    "The user might indicate that __only__ a specific type of url that matches a regex path needs to be kept"
   ]
  },
  {
   "cell_type": "code",
   "execution_count": 615,
   "metadata": {},
   "outputs": [],
   "source": [
    "URL_RULE_TESTS = [\n",
    "    r'\\/culottes\\-'\n",
    "]\n",
    "\n",
    "urls_to_keep = set()\n",
    "for item in valid_urls.itertuples(name='Url'):\n",
    "    instance = URL(item.urls)\n",
    "    for regex in URL_RULE_TESTS:\n",
    "        result = instance.test_url(regex)\n",
    "        if result:\n",
    "            urls_to_keep.add(item.urls)\n",
    "            continue\n",
    "\n",
    "urls_to_keep = pandas.DataFrame({'urls': list(urls_to_keep)})\n",
    "valid_urls = valid_urls[valid_urls.urls.isin(urls_to_keep.urls)]"
   ]
  },
  {
   "cell_type": "code",
   "execution_count": 616,
   "metadata": {},
   "outputs": [
    {
     "data": {
      "text/plain": [
       "9"
      ]
     },
     "execution_count": 616,
     "metadata": {},
     "output_type": "execute_result"
    }
   ],
   "source": [
    "valid_urls.urls.count()"
   ]
  },
  {
   "cell_type": "markdown",
   "metadata": {},
   "source": [
    "From here, we finally have the valid urls that we want to visit but also a full image of the urls that we have already seen"
   ]
  },
  {
   "cell_type": "code",
   "execution_count": 617,
   "metadata": {},
   "outputs": [],
   "source": [
    "URLS_TO_VISIT.update(valid_urls.urls.to_list())\n",
    "LIST_OF_SEEN_URLS.update(raw_urls.urls.to_list())"
   ]
  },
  {
   "cell_type": "code",
   "execution_count": 618,
   "metadata": {},
   "outputs": [
    {
     "data": {
      "text/plain": [
       "{'https://www.undiz.com/fr/culottes-de-regle/',\n",
       " 'https://www.undiz.com/fr/culottes-et-bas-de-lingerie/culottes-accessoires/',\n",
       " 'https://www.undiz.com/fr/culottes-et-bas-de-lingerie/culottes-microfibres/',\n",
       " 'https://www.undiz.com/fr/culottes-et-bas-de-lingerie/culottes/',\n",
       " 'https://www.undiz.com/fr/culottes-et-bas-de-lingerie/lots-de-2-3-culottes/',\n",
       " 'https://www.undiz.com/fr/culottes-et-bas-de-lingerie/offre-culottes/',\n",
       " 'https://www.undiz.com/fr/culottes-et-bas-de-lingerie/shorty/',\n",
       " 'https://www.undiz.com/fr/culottes-et-bas-de-lingerie/string-tanga/',\n",
       " 'https://www.undiz.com/fr/culottes-et-bas-de-lingerie/string/'}"
      ]
     },
     "execution_count": 618,
     "metadata": {},
     "output_type": "execute_result"
    }
   ],
   "source": [
    "URLS_TO_VISIT"
   ]
  },
  {
   "cell_type": "markdown",
   "metadata": {},
   "source": [
    "We can also get a dataframe of the urls that we did not want if we wanted an image of what was done"
   ]
  },
  {
   "cell_type": "code",
   "execution_count": 619,
   "metadata": {},
   "outputs": [],
   "source": [
    "rejected_urls = raw_urls[~raw_urls.urls.isin(valid_urls.urls)][['urls']]"
   ]
  },
  {
   "cell_type": "code",
   "execution_count": 620,
   "metadata": {},
   "outputs": [
    {
     "data": {
      "text/plain": [
       "183"
      ]
     },
     "execution_count": 620,
     "metadata": {},
     "output_type": "execute_result"
    }
   ],
   "source": [
    "rejected_urls.urls.count()"
   ]
  }
 ],
 "metadata": {
  "kernelspec": {
   "display_name": "Python 3",
   "language": "python",
   "name": "python3"
  },
  "language_info": {
   "codemirror_mode": {
    "name": "ipython",
    "version": 3
   },
   "file_extension": ".py",
   "mimetype": "text/x-python",
   "name": "python",
   "nbconvert_exporter": "python",
   "pygments_lexer": "ipython3",
   "version": "3.11.0"
  }
 },
 "nbformat": 4,
 "nbformat_minor": 2
}
